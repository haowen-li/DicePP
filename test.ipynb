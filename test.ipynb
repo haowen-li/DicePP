{
 "cells": [
  {
   "cell_type": "code",
   "execution_count": 1,
   "metadata": {},
   "outputs": [
    {
     "name": "stderr",
     "output_type": "stream",
     "text": [
      "ujson module not found, using json\n"
     ]
    },
    {
     "name": "stdout",
     "output_type": "stream",
     "text": [
      "个人资料库加载成功!\n",
      "找到以下查询资料: ['5e_00_spell_by_pear.json', '5e_01_armor_weapon_phb_by_xe.json', '5e_01_feat_by_pear.json', '5e_01_phb_classes_by_pear_hze_xe.json', '5e_01_phb_races_by_pear.json', '5e_02_phb_rule_by_pear.json', '5e_03_tools_phb_by_zxa.json', '5e_05_spell_list_by_pear.json', '5e_06_magic_items_dmg_by_hze.json', '5e_07_dmg_rule_by_pear.json', '5e_08_mm_by_hze_pear_query.json', '5e_08_phb_background_by_pear.json', '5e_09_creature_phb_dmg_by_hze.json', '5e_10_exp_classes_by_hh_pear.json', '5e_10_exp_demon_lord_by_farevell.json', '5e_10_exp_magic_items_by_hh.json', '5e_10_exp_races_by_pear.json', '5e_10_xge_dm_tools_by_pear.json', '5e_19_egtw_by_pear_3_29.json', '5e_30_3r_gods.json', '5e_30_module_items_by_hh.json', 'syn_spell.json']\n",
      "成功加载同义词表syn_spell.json, 共44个条目\n",
      "查询资料库加载成功! 共4180个条目\n",
      "找到以下牌堆: ['00_狂野魔法浪涌表_deck.json', '01_万象无常牌_deck.json', '05_短暂性疯狂_deck.json', '05_长期性疯狂_deck.json', '06_休克_deck.json', '06_伤残_deck.json', '20_天气_deck.json', '20_天气_温度_deck.json', '20_天气_降水_deck.json', '20_天气_风_deck.json', '21_魔法物品表a_deck.json', '21_魔法物品表b_deck.json', '21_魔法物品表c_deck.json', '21_魔法物品表d_deck.json', '21_魔法物品表e_deck.json', '21_魔法物品表f_deck.json', '21_魔法物品表g_deck.json', '21_魔法物品表h_deck.json', '21_魔法物品表i_deck.json', '22_个体宝藏cr0-4_deck.json', '22_个体宝藏cr11-16_deck.json', '22_个体宝藏cr17+_deck.json', '22_个体宝藏cr5-10_deck.json', '22_库藏宝藏cr0-4_deck.json', '22_库藏宝藏cr11-16_deck.json', '22_库藏宝藏cr17+_deck.json', '22_库藏宝藏cr5-10_deck.json', '29_宝石1000gp_deck.json', '29_宝石100gp_deck.json', '29_宝石10gp_deck.json', '29_宝石5000gp_deck.json', '29_宝石500gp_deck.json', '29_宝石50gp_deck.json', '29_艺术品2500gp_deck.json', '29_艺术品250gp_deck.json', '29_艺术品25gp_deck.json', '29_艺术品7500gp_deck.json', '29_艺术品750gp_deck.json']\n",
      "牌库加载成功! 共38个牌堆\n",
      "找到以下菜谱: ['desert_menu.json', 'drink_menu.json', 'mix_menu.json']\n",
      "菜谱资料库加载成功! 共161个菜谱\n",
      "共456个有效图片\n",
      "笑话资料库加载成功! 共145个文字条目, 456个图片条目\n",
      "表情包加载成功! 共15个条目, 分别是dict_keys(['q版万能', '双重点赞', '哭', '完全搞懂了', '抛全1骰子', '抛骰子', '比心', '没有思考', '点赞', '疑惑翻书', '看书', '看卷轴', '看聊天记录', '祈祷', '蔑视'])\n",
      "姓名资料库加载成功! 共18个种类, 8个词库\n",
      "题库加载成功! 共2个条目, 分别是[('科目一 基础知识检定', 23), ('科目二 进阶知识检定', 53)]\n"
     ]
    }
   ],
   "source": [
    "import numpy as np\n",
    "import os\n",
    "\n",
    "import plugins.custom_config as custom_config\n",
    "import plugins.bot_core as bot_core\n",
    "import plugins.tool_dice as tool_dice\n",
    "import plugins.info_help as info_help\n",
    "import plugins.info_game as info_game\n",
    "import plugins.utils as utils\n",
    "\n",
    "from plugins import bot\n",
    "\n",
    "b = bot"
   ]
  },
  {
   "cell_type": "code",
   "execution_count": 2,
   "metadata": {},
   "outputs": [],
   "source": [
    "assert utils.ChineseToEnglishSymbol('。') == '.'\n",
    "assert utils.ChineseToEnglishSymbol('.') == '.'\n",
    "assert utils.int2str(4) == '+4'\n",
    "assert utils.int2str(0) == '+0'\n",
    "assert utils.int2str(-1) == '-1'\n",
    "\n",
    "assert (await bot_core.ParseInput('.rd20'))\n",
    "assert (await bot_core.ParseInput(' . r D20 reason'))\n",
    "assert (await bot_core.ParseInput('.r'))\n",
    "assert (await bot_core.ParseInput('.rh'))\n",
    "assert (await bot_core.ParseInput('.rs'))\n",
    "assert (await bot_core.ParseInput('abc') is None)\n",
    "assert (await bot_core.ParseInput('') is None)\n",
    "assert (await bot_core.ParseInput('测试') is None)"
   ]
  },
  {
   "cell_type": "code",
   "execution_count": 3,
   "metadata": {},
   "outputs": [],
   "source": [
    "assert tool_dice.RollDiceCommand('12') [1] == '12=12'\n",
    "assert tool_dice.RollDiceCommand('4d6+2')[0] == 0 and tool_dice.RollDiceCommand('4d6+2') [1][:6] == '4D6+2='\n",
    "assert tool_dice.RollDiceCommand('d20') [0] == 0 and tool_dice.RollDiceCommand('d20') [1][:3] == 'D20'\n",
    "assert tool_dice.RollDiceCommand('d') [0] == 0 and tool_dice.RollDiceCommand('d') [1][:3] == 'D20'\n",
    "assert tool_dice.RollDiceCommand('1D4') [0] == 0\n",
    "assert tool_dice.RollDiceCommand('30D4') [0] == 0\n",
    "assert tool_dice.RollDiceCommand('D20优势+2') [0] == 0 and tool_dice.RollDiceCommand('D20优势+2') [1][:12] == 'D20优势+2=Max('\n",
    "assert tool_dice.RollDiceCommand('D20劣势-4') [0] == 0 and tool_dice.RollDiceCommand('D20劣势-4') [1][:12] == 'D20劣势-4=Min('\n",
    "assert tool_dice.RollDiceCommand('4d6k3') [0] == 0 and tool_dice.RollDiceCommand('4d6k3') [1][:11] == '4D6K3=Max3('\n",
    "assert tool_dice.RollDiceCommand('6#4d6k3') [0] == 0 and tool_dice.RollDiceCommand('6#4d6k3') [1][:14] == '6次4D6K3={\\nMax3'\n",
    "assert tool_dice.RollDiceCommand('2d20k1+5+1d4') [0] == 0 and tool_dice.RollDiceCommand('2d20k1+5+1d4') [1][:17] == '2D20K1+5+1D4=Max('\n",
    "assert tool_dice.RollDiceCommand('d优势+2')[1][:12] == 'D20优势+2=Max('\n",
    "assert tool_dice.RollDiceCommand('3dk1+5抗性')[1][:16] == '3D20K1+5抗性=(Max('"
   ]
  },
  {
   "cell_type": "code",
   "execution_count": 4,
   "metadata": {},
   "outputs": [],
   "source": [
    "assert tool_dice.SplitDiceCommand('d20优势+5攻击地精') == ('d20优势+5', '攻击地精')\n",
    "assert tool_dice.SplitDiceCommand('d20优势+5     攻击地精') == ('d20优势+5', '攻击地精')\n",
    "assert tool_dice.SplitDiceCommand('d20优势+5     攻击地精') == ('d20优势+5', '攻击地精')\n",
    "assert tool_dice.SplitDiceCommand('d20优势+5') == ('d20优势+5', '')"
   ]
  },
  {
   "cell_type": "code",
   "execution_count": 5,
   "metadata": {},
   "outputs": [],
   "source": [
    "_ = (await b.DailyUpdate(saveData = False))"
   ]
  },
  {
   "cell_type": "code",
   "execution_count": 6,
   "metadata": {},
   "outputs": [],
   "source": [
    "assert (await b.ProcessMessage('.debug', '821480843', 'ABCD'))[0].resultStr\n",
    "assert (await b.ProcessMessage('.nn', '821480843', 'ABCD'))[0].resultStr\n",
    "assert (await b.ProcessMessage('.rd20', '821480843', 'TEST_USER'))[0].resultStr\n",
    "assert (await b.ProcessMessage('.rd', '821480843', 'TEST_USER'))[0].resultStr\n",
    "assert (await b.ProcessMessage('.rd     ', '821480843', 'TEST_USER'))[0].resultStr\n",
    "assert (await b.ProcessMessage('.rd    未知原因', '821480843', 'TEST_USER'))[0].resultStr\n",
    "assert (await b.ProcessMessage('.rd20攻击', '821480843', 'TEST_USER'))[0].resultStr\n",
    "assert (await b.ProcessMessage('.rd优势', '821480843', 'TEST_USER'))[0].resultStr\n",
    "assert (await b.ProcessMessage('.rd+5', '821480843', 'TEST_USER'))[0].resultStr\n",
    "assert (await b.ProcessMessage('.rs6d20', '82148084', 'TEST_USER', 'groupId_test'))[0].resultStr\n",
    "assert (await b.ProcessMessage('.rs4#6d20', '82148084', 'TEST_USER', 'groupId_test'))[0].resultStr"
   ]
  },
  {
   "cell_type": "code",
   "execution_count": 7,
   "metadata": {},
   "outputs": [],
   "source": [
    "assert (await b.ProcessMessage('.nn', '821480843', 'ABCD'))[0].resultStr == '要用本来的名字称呼你吗? 了解!'\n",
    "assert (await b.ProcessMessage('.nn 西瓜', '821480843', 'ABCD'))[0].resultStr == '要称呼你为西瓜吗? 没问题!'\n",
    "assert (await b.ProcessMessage('.rd20', '821480843', 'TEST_USER'))[0].resultStr[:9] == '西瓜掷出了D20='\n",
    "assert (await b.ProcessMessage('.nn 冬瓜', '821480843', 'ABCD'))[0].resultStr == '要称呼你为冬瓜吗? 没问题!'\n",
    "assert (await b.ProcessMessage('.rd20', '821480843', 'TEST_USER'))[0].resultStr[:9] == '冬瓜掷出了D20='\n",
    "assert ((await b.ProcessMessage('.jrrp', '821480843', 'TEST_USER'))[0].resultStr)\n",
    "assert (await b.ProcessMessage('.nn', '821480843', 'ABCD'))[0].resultStr == '要用本来的名字称呼你吗? 了解!'\n",
    "assert (await b.ProcessMessage('.rd20', '821480843', 'TEST_USER'))[0].resultStr[:16] == 'TEST_USER掷出了D20='\n",
    "assert ((await b.ProcessMessage('.jrrp', '821480843', 'TEST_USER'))[0].resultStr)"
   ]
  },
  {
   "cell_type": "code",
   "execution_count": 8,
   "metadata": {
    "scrolled": false
   },
   "outputs": [],
   "source": [
    "assert (await b.ProcessMessage('.nn', '821480843', 'ABCD'))[0].resultStr == '要用本来的名字称呼你吗? 了解!'\n",
    "assert (await b.ProcessMessage('.nn 格鲁特', '821480843', 'TEST_USER', 'groupId_test'))[0].resultStr == '要称呼你为格鲁特吗? 没问题!'\n",
    "assert (await b.ProcessMessage('.hp 40', '821480843', 'TEST_USER', 'groupId_test'))[0].resultStr == '成功将格鲁特的生命值设置为40=40'\n",
    "assert (await b.ProcessMessage('.hp 40/50', '821480843', 'TEST_USER', 'groupId_test'))[0].resultStr == '成功将格鲁特的生命值设置为40=40, 最大生命值是50'\n",
    "assert (await b.ProcessMessage('.init clr', '821480843', 'TEST_USER', 'groupId_test'))[0]\n",
    "assert (await b.ProcessMessage('.init', '821480843', 'TEST_USER', 'groupId_test'))[0].resultStr == '还没有做好先攻列表哦'\n",
    "assert (await b.ProcessMessage('.ri+2', '821480843', 'TEST_USER', 'groupId_test'))[0].resultStr[:12] == '格鲁特先攻:D20+2='\n",
    "assert (await b.ProcessMessage('.ri-1', '821480843', 'TEST_USER', 'groupId_test'))[0].resultStr[:12] == '格鲁特先攻:D20-1='\n",
    "assert (await b.ProcessMessage('.ri', '821480843', 'TEST_USER', 'groupId_test'))[0].resultStr[:10] == '格鲁特先攻:D20='\n",
    "assert (await b.ProcessMessage('.ri-2地精', '821480843', 'TEST_USER', 'groupId_test'))[0].resultStr[:11] == '地精先攻:D20-2='\n",
    "assert (await b.ProcessMessage('.ri+1 1d4+1#大僵尸/小僵尸/快速僵尸+2', '821480843', 'TEST_USER', 'groupId_test'))[0].resultStr\n",
    "assert (await b.ProcessMessage('.ri劣势+1d4 地精', '821480843', 'TEST_USER', 'groupId_test'))[0].resultStr[:19] =='地精先攻:D20劣势+1D4=Min('\n",
    "assert (await b.ProcessMessage('.ri20 巢穴', '821480843', 'TEST_USER', 'groupId_test'))[0].resultStr == '巢穴先攻:20=20'\n",
    "assert (await b.ProcessMessage('.ri-5', '87654321', '米达尔', 'groupId_test'))[0].resultStr[:12] == '米达尔先攻:D20-5='\n",
    "assert (await b.ProcessMessage('.init', '821480843', 'TEST_USER', 'groupId_test'))[0].resultStr\n",
    "assert (await b.ProcessMessage('.init del 地精', '821480843', 'TEST_USER', 'groupId_test'))[0].resultStr == '已经将地精从先攻列表中删除'\n",
    "assert (await b.ProcessMessage('.init del米达尔', '821480843', 'TEST_USER', 'groupId_test'))[0].resultStr == '已经将米达尔从先攻列表中删除'\n",
    "assert (await b.ProcessMessage('.init', '821480843', 'TEST_USER', 'groupId_test'))[0].resultStr\n",
    "assert (await b.ProcessMessage('.init clr', '821480843', 'TEST_USER', 'groupId_test'))[0]\n",
    "assert (await b.ProcessMessage('.init', '821480843', 'TEST_USER', 'groupId_test'))[0].resultStr == '还没有做好先攻列表哦'\n",
    "assert (await b.ProcessMessage('.nn', '821480843', 'TEST_USER', 'groupId_test'))[0].resultStr == '要用本来的名字称呼你吗? 了解!'\n",
    "assert (await b.ProcessMessage('.rd20', '821480843', 'ABCD'))[0].resultStr[:11] == 'ABCD掷出了D20='\n",
    "assert (await b.ProcessMessage('.hp clr', '821480843', 'TEST_USER', 'groupId_test'))[0].resultStr == '已经忘记了TEST_USER的生命值...'"
   ]
  },
  {
   "cell_type": "code",
   "execution_count": 9,
   "metadata": {},
   "outputs": [],
   "source": [
    "assert (await b.ProcessMessage('.nn 格鲁特', '821480843', 'TEST_USER'))[0].resultStr == '要称呼你为格鲁特吗? 没问题!'\n",
    "assert (await b.ProcessMessage('.ri', '821480843', 'TEST_USER', 'groupId_test'))[0].resultStr\n",
    "assert (await b.ProcessMessage('.ri', '87654321', '米达尔', 'groupId_test'))[0].resultStr\n",
    "assert (await b.ProcessMessage('.ri 地精', '821480843', 'TEST_USER', 'groupId_test'))[0].resultStr\n",
    "assert (await b.ProcessMessage('.ri 卓尔精灵A', '821480843', 'TEST_USER', 'groupId_test'))[0].resultStr\n",
    "assert (await b.ProcessMessage('.init', '821480843', 'TEST_USER', 'groupId_test'))[0].resultStr\n",
    "assert (await b.ProcessMessage('.hp 20/40', '821480843', 'TEST_USER', 'groupId_test'))[0].resultStr\n",
    "assert (await b.ProcessMessage('.hp 地精- 1d8+4', '821480843', 'TEST_USER', 'groupId_test'))[0].resultStr\n",
    "assert (await b.ProcessMessage('.hp 格+ 1d8+3', '821480843', 'TEST_USER', 'groupId_test'))[0].resultStr\n",
    "assert (await b.ProcessMessage('.hp10', '821480843', 'TEST_USER', 'groupId_test'))[0].resultStr\n",
    "assert (await b.ProcessMessage('.hp A-1d6+10', '821480843', 'TEST_USER', 'groupId_test'))[0].resultStr\n",
    "assert (await b.ProcessMessage('.hpA2d8', '821480843', 'TEST_USER', 'groupId_test'))[0].resultStr\n",
    "assert (await b.ProcessMessage('.hpA-20', '821480843', 'TEST_USER', 'groupId_test'))[0].resultStr\n",
    "assert (await b.ProcessMessage('.hp米-3d4+3', '821480843', 'TEST_USER', 'groupId_test'))[0].resultStr\n",
    "assert ((await b.ProcessMessage('.米-3d4+3hp', '821480843', 'TEST_USER', 'groupId_test'))[0].resultStr)\n",
    "assert ((await b.ProcessMessage('.地精hp- 1d8+4', '821480843', 'TEST_USER', 'groupId_test'))[0].resultStr)\n",
    "assert ((await b.ProcessMessage('.米/地精hp-4d8', '821480843', 'TEST_USER', 'groupId_test'))[0].resultStr)\n",
    "assert (await b.ProcessMessage('.init', '821480843', 'TEST_USER', 'groupId_test'))[0].resultStr\n",
    "assert (await b.ProcessMessage('.init clr', '821480843', 'TEST_USER', 'groupId_test'))[0].resultStr\n",
    "assert (await b.ProcessMessage('.hp clr', '821480843', 'TEST_USER', 'groupId_test'))[0].resultStr\n",
    "assert (await b.ProcessMessage('.hp clr', '87654321', '米达尔', 'groupId_test'))[0].resultStr\n",
    "assert (await b.ProcessMessage('.nn', '821480843', 'TEST_USER'))[0].resultStr == '要用本来的名字称呼你吗? 了解!'"
   ]
  },
  {
   "cell_type": "code",
   "execution_count": 10,
   "metadata": {},
   "outputs": [],
   "source": [
    "assert (await b.ProcessMessage('.init clr', '821480843', 'TEST_USER', 'groupId_test'))[0].resultStr\n",
    "assert (await b.ProcessMessage('.ri', '821480843', 'TEST_USER', 'groupId_test'))[0].resultStr\n",
    "assert (await b.ProcessMessage('.hp 10', '821480843', 'TEST_USER', 'groupId_test'))[0].resultStr\n",
    "assert (await b.ProcessMessage('.hp 20', '12345678', 'TEST_USER2', 'groupId_test'))[0].resultStr\n",
    "assert (await b.ProcessMessage('.ri 约翰', '821480843', 'TEST_USER', 'groupId_test'))[0].resultStr\n",
    "assert (await b.ProcessMessage('.nn 约瑟夫', '821480843', 'TEST_USER', 'groupId_test'))[0].resultStr\n",
    "assert (await b.ProcessMessage('.nn 约翰', '12345678', 'TEST_USER2', 'groupId_test'))[0].resultStr\n",
    "assert (await b.ProcessMessage('.init', '821480843', 'TEST_USER', 'groupId_test'))[0].resultStr\n",
    "assert (await b.ProcessMessage('.nn', '821480843', 'TEST_USER', 'groupId_test'))[0].resultStr\n",
    "assert (await b.ProcessMessage('.nn', '12345678', 'TEST_USER2', 'groupId_test'))[0].resultStr\n",
    "assert (await b.ProcessMessage('.init clr', '821480843', 'TEST_USER', 'groupId_test'))[0].resultStr"
   ]
  },
  {
   "cell_type": "code",
   "execution_count": 11,
   "metadata": {},
   "outputs": [],
   "source": [
    "assert (await b.ProcessMessage('.bot on', '821480843', 'TEST_USER', 'groupId_test')) == []\n",
    "assert (await b.ProcessMessage('.bot on', '821480843', 'TEST_USER', 'groupId_test', True))[0].resultStr\n",
    "assert (await b.ProcessMessage('.bot off', '821480843', 'TEST_USER', 'groupId_test', True))[0].resultStr\n",
    "assert (await b.ProcessMessage('.rd20沉默', '821480843', 'TEST_USER', 'groupId_test')) == []\n",
    "assert (await b.ProcessMessage('.rd20沉默', '821480843', 'TEST_USER', 'groupId_test', True))[0] != None\n",
    "assert (await b.ProcessMessage('.bot on', '821480843', 'TEST_USER', 'groupId_test', True))[0].resultStr\n",
    "assert (await b.ProcessMessage('.rd20沉默', '821480843', 'TEST_USER', 'groupId_test'))[0] != []"
   ]
  },
  {
   "cell_type": "code",
   "execution_count": 12,
   "metadata": {},
   "outputs": [],
   "source": [
    "assert (await b.ProcessMessage('.dnd', '821480843', 'TEST_USER'))[0]\n",
    "assert (await b.ProcessMessage('.dnd 3', '821480843', 'TEST_USER', 'groupId_test'))[0]\n",
    "assert (await b.ProcessMessage('.dnd3 大力出奇迹', '821480843', 'TEST_USER', 'groupId_test'))[0]"
   ]
  },
  {
   "cell_type": "code",
   "execution_count": 13,
   "metadata": {},
   "outputs": [],
   "source": [
    "assert (await b.ProcessMessage('.help', '821480843', 'TEST_USER', 'groupId_test'))[0].resultStr == info_help.HELP_STR\n",
    "assert (await b.ProcessMessage('.help指令', '821480843', 'TEST_USER', 'groupId_test'))[0].resultStr == info_help.HELP_COMMAND_STR\n",
    "assert (await b.ProcessMessage('.help  指 令', '821480843', 'TEST_USER', 'groupId_test'))[0].resultStr == info_help.HELP_COMMAND_STR\n",
    "assert (await b.ProcessMessage('.help链接', '821480843', 'TEST_USER', 'groupId_test'))[0].resultStr == info_help.HELP_LINK_STR\n",
    "assert (await b.ProcessMessage('.help协议', '821480843', 'TEST_USER', 'groupId_test'))[0].resultStr == info_help.HELP_AGREEMENT_STR\n",
    "assert (await b.ProcessMessage('.help查询', '821480843', 'TEST_USER', 'groupId_test'))[0].resultStr == info_help.HELP_COMMAND_QUERY_STR\n",
    "assert (await b.ProcessMessage('.help draw', '821480843', 'TEST_USER', 'groupId_test'))[0].resultStr == info_help.HELP_COMMAND_DRAW_STR\n",
    "assert (await b.ProcessMessage('.help 群管理', '821480843', 'TEST_USER', 'groupId_test'))[0].resultStr == info_help.HELP_COMMAND_GROUP_STR"
   ]
  },
  {
   "cell_type": "code",
   "execution_count": 14,
   "metadata": {},
   "outputs": [],
   "source": [
    "assert (await b.ProcessMessage('.查询火球术', '821480843', 'TEST_USER', 'groupId_test'))[0].resultStr[:11] == '火球术Fireball'\n",
    "assert (await b.ProcessMessage('.查询  火球术', '821480843', 'TEST_USER', 'groupId_test'))[0].resultStr[:11] == '火球术Fireball'\n",
    "assert (await b.ProcessMessage('.查询  火 球 术', '821480843', 'TEST_USER', 'groupId_test'))[0].resultStr[:11] == '火球术Fireball'\n",
    "assert (await b.ProcessMessage('.查询火球', '821480843', 'TEST_USER', 'groupId_test'))[0].resultStr.find('找到多个匹配的条目:') != -1\n",
    "assert (await b.ProcessMessage('.查询   ', '821480843', 'TEST_USER', 'groupId_test'))[0]\n",
    "assert (await b.ProcessMessage('.查询 高/隐', '821480843', 'TEST_USER', 'groupId_test'))[0].resultStr[:13]\n",
    "assert (await b.ProcessMessage('.查询 火球', '821480843', 'TEST_USER', 'groupId_test'))[0].resultStr\n",
    "assert (await b.ProcessMessage('2', '821480843', 'TEST_USER', 'groupId_test'))[0].resultStr[:11] == '火球术Fireball'"
   ]
  },
  {
   "cell_type": "code",
   "execution_count": 15,
   "metadata": {},
   "outputs": [],
   "source": [
    "assert (await b.ProcessMessage('.rhd20优势', '821480843', 'TEST_USER', 'groupId_test'))[0].personIdList == ['821480843']\n",
    "assert (await b.ProcessMessage('.rhd20优势', '821480843', 'TEST_USER', 'groupId_test'))[0].groupIdList is None\n",
    "assert (await b.ProcessMessage('.r1d8抗性', '821480843', 'TEST_USER', 'groupId_test'))[0].resultStr\n",
    "assert (await b.ProcessMessage('.r1d8+2d10抗性', '821480843', 'TEST_USER', 'groupId_test'))[0].resultStr\n",
    "assert (await b.ProcessMessage('.r20易伤', '821480843', 'TEST_USER', 'groupId_test'))[0].resultStr\n",
    "assert (await b.ProcessMessage('.rd+2d8+1d4易伤', '821480843', 'TEST_USER', 'groupId_test'))[0].resultStr\n",
    "assert (await b.ProcessMessage('.r3#1d8+1d12抗性', '821480843', 'TEST_USER', 'groupId_test'))[0].resultStr\n",
    "assert (await b.ProcessMessage('.r易伤d+2d8+1d4', '821480843', 'TEST_USER', 'groupId_test'))[0].resultStr\n",
    "assert (await b.ProcessMessage('.r3dk1易伤', '821480843', 'TEST_USER', 'groupId_test'))[0].resultStr"
   ]
  },
  {
   "cell_type": "code",
   "execution_count": 16,
   "metadata": {},
   "outputs": [],
   "source": [
    "assert (await b.ProcessMessage('.draw 狂野', '821480843', 'TEST_USER', 'groupId_test'))[0].resultStr\n",
    "assert (await b.ProcessMessage('.draw狂野魔法浪涌表', '821480843', 'TEST_USER', 'groupId_test'))[0].resultStr\n",
    "assert (await b.ProcessMessage('.draw', '821480843', 'TEST_USER', 'groupId_test'))[0].resultStr\n",
    "assert ((await b.ProcessMessage('.draw万象', '821480843', 'TEST_USER', 'groupId_test'))[0].resultStr)\n",
    "assert ((await b.ProcessMessage('.draw天气', '821480843', 'TEST_USER', 'groupId_test'))[0].resultStr)\n",
    "assert ((await b.ProcessMessage('.draw库藏宝藏cr0', '821480843', 'TEST_USER', 'groupId_test'))[0].resultStr)\n",
    "assert ((await b.ProcessMessage('.draw11#库藏宝藏cr0', '821480843', 'TEST_USER', 'groupId_test'))[0].resultStr)"
   ]
  },
  {
   "cell_type": "code",
   "execution_count": 17,
   "metadata": {},
   "outputs": [],
   "source": [
    "assert (await b.ProcessMessage('.烹饪', '821480843', 'TEST_USER', 'groupId_test'))[0].resultStr\n",
    "assert (await b.ProcessMessage('.烹饪-4', '821480843', 'TEST_USER', 'groupId_test'))[0].resultStr\n",
    "assert (await b.ProcessMessage('.烹饪优势+1d4', '821480843', 'TEST_USER', 'groupId_test'))[0].resultStr\n",
    "assert (await b.ProcessMessage('.烹饪 经典/主菜', '821480843', 'TEST_USER', 'groupId_test'))[0].resultStr\n",
    "assert (await b.ProcessMessage('.烹饪 野炊', '821480843', 'TEST_USER', 'groupId_test'))[0].resultStr\n",
    "assert (await b.ProcessMessage('.烹饪 经典/主菜////精灵/黑暗/奢侈', '821480843', 'TEST_USER', 'groupId_test'))[0].resultStr"
   ]
  },
  {
   "cell_type": "code",
   "execution_count": 18,
   "metadata": {},
   "outputs": [],
   "source": [
    "assert (await b.ProcessMessage('.点菜', '821480843', 'TEST_USER', 'groupId_test'))[0].resultStr\n",
    "assert (await b.ProcessMessage('.点菜1d4', '821480843', 'TEST_USER', 'groupId_test'))[0].resultStr\n",
    "assert (await b.ProcessMessage('.点菜3', '821480843', 'TEST_USER', 'groupId_test'))[0].resultStr\n",
    "assert (await b.ProcessMessage('.点菜5经典', '821480843', 'TEST_USER', 'groupId_test'))[0].resultStr\n",
    "assert (await b.ProcessMessage('.点菜 经典/主菜////精灵/黑暗/奢侈', '821480843', 'TEST_USER', 'groupId_test'))[0].resultStr\n",
    "assert (await b.ProcessMessage('.今日菜单', '821480843', 'TEST_USER', 'groupId_test'))[0].resultStr"
   ]
  },
  {
   "cell_type": "code",
   "execution_count": 19,
   "metadata": {},
   "outputs": [],
   "source": [
    "template = (await b.ProcessMessage('.角色卡模板', '821480843', 'TEST_USER', 'groupId_test'))[0].resultStr\n",
    "assert (await b.ProcessMessage(f'.记录角色卡 {template}', '821480843', 'TEST_USER', 'groupId_test'))[0].resultStr\n",
    "assert ((await b.ProcessMessage('.法术位', '821480843', 'TEST_USER', 'groupId_test'))[0].resultStr)\n",
    "assert ((await b.ProcessMessage('.2环法术位-1', '821480843', 'TEST_USER', 'groupId_test'))[0].resultStr)\n",
    "assert ((await b.ProcessMessage('.1环-1', '821480843', 'TEST_USER', 'groupId_test'))[0].resultStr)\n",
    "assert ((await b.ProcessMessage('.记录金钱50gp', '821480843', 'TEST_USER', 'groupId_test'))[0].resultStr)\n",
    "assert ((await b.ProcessMessage('.金钱-52sp-20cp', '821480843', 'TEST_USER', 'groupId_test'))[0].resultStr)\n",
    "assert ((await b.ProcessMessage('.金钱-5', '821480843', 'TEST_USER', 'groupId_test'))[0].resultStr)\n",
    "assert (await b.ProcessMessage(f'.金钱', '821480843', 'TEST_USER', 'groupId_test'))[0].resultStr\n",
    "assert ((await b.ProcessMessage('.查看角色卡 ', '821480843', 'TEST_USER', 'groupId_test'))[0].resultStr)\n",
    "assert ((await b.ProcessMessage('.长休', '821480843', 'TEST_USER', 'groupId_test'))[0].resultStr)\n",
    "assert ((await b.ProcessMessage('.清除法术位', '821480843', 'TEST_USER', 'groupId_test'))[0].resultStr)\n",
    "assert ((await b.ProcessMessage('.清除金钱', '821480843', 'TEST_USER', 'groupId_test'))[0].resultStr)\n",
    "assert ((await b.ProcessMessage('.查看角色卡 ', '821480843', 'TEST_USER', 'groupId_test'))[0].resultStr)\n",
    "assert ((await b.ProcessMessage('.完整角色卡 ', '821480843', 'TEST_USER', 'groupId_test'))[0].resultStr)\n",
    "assert (await b.ProcessMessage('.敏捷检定+4+1d4 躲藏', '821480843', 'TEST_USER', 'groupId_test'))[0].resultStr\n",
    "assert ((await b.ProcessMessage('.3#敏捷检定+2', '821480843', 'TEST_USER', 'groupId_test'))[0].resultStr)\n",
    "assert ((await b.ProcessMessage('.3#敏捷攻击', '821480843', 'TEST_USER', 'groupId_test'))[0].resultStr)\n",
    "assert ((await b.ProcessMessage('.3#敏捷豁免', '821480843', 'TEST_USER', 'groupId_test'))[0].resultStr)\n",
    "assert (await b.ProcessMessage('.敏捷豁免+2', '821480843', 'TEST_USER', 'groupId_test'))[0].resultStr\n",
    "assert (await b.ProcessMessage('.察觉检定', '821480843', 'TEST_USER', 'groupId_test'))[0].resultStr\n",
    "assert ((await b.ProcessMessage('.敏捷攻击', '821480843', 'TEST_USER', 'groupId_test'))[0].resultStr)\n",
    "assert ((await b.ProcessMessage('.长休', '821480843', 'TEST_USER', 'groupId_test'))[0].resultStr)\n",
    "assert (await b.ProcessMessage('.清除角色卡 ', '821480843', 'TEST_USER', 'groupId_test'))[0].resultStr\n",
    "assert (await b.ProcessMessage('.nn', '821480843', 'TEST_USER', 'groupId_test'))[0].resultStr\n",
    "assert (await b.ProcessMessage('.角色卡', '821480843', 'TEST_USER', 'groupId_test'))[0].resultStr\n",
    "assert (await b.ProcessMessage('.说服检定', '821480843', 'TEST_USER', 'groupId_test'))[0].resultStr\n",
    "assert (await b.ProcessMessage('.长休', '821480843', 'TEST_USER', 'groupId_test'))[0].resultStr"
   ]
  },
  {
   "cell_type": "code",
   "execution_count": 12,
   "metadata": {},
   "outputs": [
    {
     "ename": "IndexError",
     "evalue": "list index out of range",
     "output_type": "error",
     "traceback": [
      "\u001b[1;31m---------------------------------------------------------------------------\u001b[0m",
      "\u001b[1;31mIndexError\u001b[0m                                Traceback (most recent call last)",
      "\u001b[1;32m<ipython-input-12-1c4919d0588f>\u001b[0m in \u001b[0;36masync-def-wrapper\u001b[1;34m()\u001b[0m\n",
      "\u001b[1;32m~\\OneDrive\\Dice\\DicePP\\plugins\\bot_core.py\u001b[0m in \u001b[0;36mProcessMessage\u001b[1;34m(self, inputStr, userId, personName, groupId, onlyToMe)\u001b[0m\n\u001b[0;32m    804\u001b[0m         \u001b[1;32mtry\u001b[0m\u001b[1;33m:\u001b[0m\u001b[1;33m\u001b[0m\u001b[1;33m\u001b[0m\u001b[0m\n\u001b[0;32m    805\u001b[0m             resultList, commandWeight = await self.__ProcessInput(command, userId, nickName, userInfoCur, groupId,\n\u001b[1;32m--> 806\u001b[1;33m                                                                   groupInfoCur, onlyToMe)\n\u001b[0m\u001b[0;32m    807\u001b[0m         \u001b[1;32mexcept\u001b[0m \u001b[0mMasterError\u001b[0m \u001b[1;32mas\u001b[0m \u001b[0me\u001b[0m\u001b[1;33m:\u001b[0m\u001b[1;33m\u001b[0m\u001b[1;33m\u001b[0m\u001b[0m\n\u001b[0;32m    808\u001b[0m             \u001b[1;32mif\u001b[0m \u001b[0mself\u001b[0m\u001b[1;33m.\u001b[0m\u001b[0mmasterInfoDict\u001b[0m\u001b[1;33m[\u001b[0m\u001b[1;34m'debug'\u001b[0m\u001b[1;33m]\u001b[0m\u001b[1;33m:\u001b[0m\u001b[1;33m\u001b[0m\u001b[1;33m\u001b[0m\u001b[0m\n",
      "\u001b[1;32m~\\OneDrive\\Dice\\DicePP\\plugins\\bot_core.py\u001b[0m in \u001b[0;36m__ProcessInput\u001b[1;34m(self, command, userId, nickName, userInfoCur, groupId, groupInfoCur, onlyToMe)\u001b[0m\n\u001b[0;32m   1075\u001b[0m             \u001b[1;32melse\u001b[0m\u001b[1;33m:\u001b[0m\u001b[1;33m\u001b[0m\u001b[1;33m\u001b[0m\u001b[0m\n\u001b[0;32m   1076\u001b[0m                 \u001b[1;32mif\u001b[0m \u001b[0msubType\u001b[0m \u001b[1;33m==\u001b[0m \u001b[1;34m'记录'\u001b[0m\u001b[1;33m:\u001b[0m\u001b[1;33m\u001b[0m\u001b[1;33m\u001b[0m\u001b[0m\n\u001b[1;32m-> 1077\u001b[1;33m                     \u001b[0mresult\u001b[0m \u001b[1;33m=\u001b[0m \u001b[0mtp\u001b[0m\u001b[1;33m.\u001b[0m\u001b[0mSetPlayerInfo\u001b[0m\u001b[1;33m(\u001b[0m\u001b[0mself\u001b[0m\u001b[1;33m,\u001b[0m \u001b[0mgroupId\u001b[0m\u001b[1;33m,\u001b[0m \u001b[0muserId\u001b[0m\u001b[1;33m,\u001b[0m \u001b[0minfoStr\u001b[0m\u001b[1;33m)\u001b[0m\u001b[1;33m\u001b[0m\u001b[1;33m\u001b[0m\u001b[0m\n\u001b[0m\u001b[0;32m   1078\u001b[0m                 \u001b[1;32melif\u001b[0m \u001b[0msubType\u001b[0m \u001b[1;33m==\u001b[0m \u001b[1;34m'查看'\u001b[0m\u001b[1;33m:\u001b[0m\u001b[1;33m\u001b[0m\u001b[1;33m\u001b[0m\u001b[0m\n\u001b[0;32m   1079\u001b[0m                     \u001b[0mresult\u001b[0m \u001b[1;33m=\u001b[0m \u001b[0mtp\u001b[0m\u001b[1;33m.\u001b[0m\u001b[0mGetPlayerInfo\u001b[0m\u001b[1;33m(\u001b[0m\u001b[0mself\u001b[0m\u001b[1;33m,\u001b[0m \u001b[0mgroupId\u001b[0m\u001b[1;33m,\u001b[0m \u001b[0muserId\u001b[0m\u001b[1;33m,\u001b[0m \u001b[0mnickName\u001b[0m\u001b[1;33m)\u001b[0m\u001b[1;33m\u001b[0m\u001b[1;33m\u001b[0m\u001b[0m\n",
      "\u001b[1;32m~\\OneDrive\\Dice\\DicePP\\plugins\\tool_pc.py\u001b[0m in \u001b[0;36mSetPlayerInfo\u001b[1;34m(bot, groupId, userId, infoStr)\u001b[0m\n\u001b[0;32m    130\u001b[0m         \u001b[1;32mtry\u001b[0m\u001b[1;33m:\u001b[0m\u001b[1;33m\u001b[0m\u001b[1;33m\u001b[0m\u001b[0m\n\u001b[0;32m    131\u001b[0m             \u001b[0mpcState\u001b[0m\u001b[1;33m[\u001b[0m\u001b[1;34m'hp'\u001b[0m\u001b[1;33m]\u001b[0m \u001b[1;33m=\u001b[0m \u001b[0mint\u001b[0m\u001b[1;33m(\u001b[0m\u001b[0mhpList\u001b[0m\u001b[1;33m[\u001b[0m\u001b[1;36m0\u001b[0m\u001b[1;33m]\u001b[0m\u001b[1;33m)\u001b[0m\u001b[1;33m\u001b[0m\u001b[1;33m\u001b[0m\u001b[0m\n\u001b[1;32m--> 132\u001b[1;33m             \u001b[0mpcState\u001b[0m\u001b[1;33m[\u001b[0m\u001b[1;34m'maxhp'\u001b[0m\u001b[1;33m]\u001b[0m \u001b[1;33m=\u001b[0m \u001b[0mint\u001b[0m\u001b[1;33m(\u001b[0m\u001b[0mhpList\u001b[0m\u001b[1;33m[\u001b[0m\u001b[1;36m1\u001b[0m\u001b[1;33m]\u001b[0m\u001b[1;33m)\u001b[0m\u001b[1;33m\u001b[0m\u001b[1;33m\u001b[0m\u001b[0m\n\u001b[0m\u001b[0;32m    133\u001b[0m         \u001b[1;32mexcept\u001b[0m \u001b[0mValueError\u001b[0m\u001b[1;33m:\u001b[0m\u001b[1;33m\u001b[0m\u001b[1;33m\u001b[0m\u001b[0m\n\u001b[0;32m    134\u001b[0m             \u001b[1;32mreturn\u001b[0m \u001b[1;34mf'{infoStr[index:lastIndex]} 不是有效的生命值信息'\u001b[0m\u001b[1;33m\u001b[0m\u001b[1;33m\u001b[0m\u001b[0m\n",
      "\u001b[1;31mIndexError\u001b[0m: list index out of range"
     ]
    }
   ],
   "source": [
    "testStr = '.记录角色卡\\n姓名:王权富贵\\nhp:84\\n力量:25  敏捷:14  体质:18  智力:11  感知:13  魅力:18\\n熟练加值:3 熟练项:魅力豁免/感知豁免/运动/威吓/察觉/洞悉\\n最大法术位:4/3'\n",
    "(await b.ProcessMessage(testStr, '821480843', 'TEST_USER', 'groupId_test'))[0].resultStr"
   ]
  },
  {
   "cell_type": "code",
   "execution_count": 20,
   "metadata": {},
   "outputs": [],
   "source": [
    "assert (await b.ProcessMessage('.credit 12345678:+10', '821480843', 'TEST_USER', 'groupId_test'))[0].resultStr\n",
    "assert (await b.ProcessMessage('.credit 12345678:-10', '821480843', 'TEST_USER', 'groupId_test'))[1].resultStr\n",
    "assert ((await b.ProcessMessage('.好感度', '12345678', 'TEST_USER', 'groupId_test'))[0].resultStr)\n",
    "assert ((await b.ProcessMessage('.好感度', '821480843', 'TEST_USER', 'groupId_test'))[0].resultStr)\n",
    "assert ((await b.ProcessMessage('.credit 821480843', '821480843', 'TEST_USER', 'groupId_test'))[0].resultStr)\n",
    "assert ((await b.ProcessMessage('.dp', '821480843', 'TEST_USER', 'groupId_test'))[0].resultStr)\n",
    "assert (await b.ProcessMessage('.今日笑话', '821480843', 'TEST_USER', 'groupId_test'))[0].resultStr\n",
    "assert (await b.ProcessMessage('.今日笑话', '821480843', 'TEST_USER', 'groupId_test'))[0].resultStr\n",
    "assert (await b.ProcessMessage('.明日笑话', '821480843', 'TEST_USER', 'groupId_test'))[0].resultStr\n",
    "assert (await b.ProcessMessage('.昨日笑话', '821480843', 'TEST_USER', 'groupId_test'))[0].resultStr"
   ]
  },
  {
   "cell_type": "code",
   "execution_count": 21,
   "metadata": {},
   "outputs": [],
   "source": [
    "assert (await b.ProcessMessage('.记录笔记 包子', '821480843', 'TEST_USER', 'groupId_test'))[0].resultStr\n",
    "assert (await b.ProcessMessage('.记录笔记 馒头', '821480843', 'TEST_USER', 'groupId_test'))[0].resultStr\n",
    "assert (await b.ProcessMessage('.记录笔记 1:面条', '821480843', 'TEST_USER', 'groupId_test'))[0].resultStr\n",
    "assert (await b.ProcessMessage('.记录笔记 1:+鸡蛋', '821480843', 'TEST_USER', 'groupId_test'))[0].resultStr\n",
    "assert (await b.ProcessMessage('.记录笔记 1:+豆浆油条', '821480843', 'TEST_USER', 'groupId_test'))[0].resultStr\n",
    "assert (await b.ProcessMessage('.笔记 xxyyzz', '821480843', 'TEST_USER', 'groupId_test'))[0].resultStr\n",
    "assert (await b.ProcessMessage('.笔记 临时', '821480843', 'TEST_USER', 'groupId_test'))[0].resultStr\n",
    "assert (await b.ProcessMessage('.笔记', '821480843', 'TEST_USER', 'groupId_test'))[0].resultStr\n",
    "assert (await b.ProcessMessage('.清除笔记1', '821480843', 'TEST_USER', 'groupId_test'))[0].resultStr\n",
    "assert (await b.ProcessMessage('.清除笔记 所有笔记', '821480843', 'TEST_USER', 'groupId_test'))[0].resultStr\n",
    "assert (await b.ProcessMessage('.笔记', '821480843', 'TEST_USER', 'groupId_test'))[0].resultStr"
   ]
  },
  {
   "cell_type": "code",
   "execution_count": 22,
   "metadata": {},
   "outputs": [],
   "source": [
    "assert (await b.ProcessMessage('伊丽莎白是谁', '821480843', 'TEST_USER', 'groupId_test'))[0].resultStr\n",
    "assert (await b.ProcessMessage('the shadow!!!!', '821480843', 'TEST_USER', 'groupId_test'))[0].resultStr\n",
    "assert (await b.ProcessMessage('请伊丽莎白保佑我啊!', '821480843', 'TEST_USER', 'groupId_test'))[0].resultStr"
   ]
  },
  {
   "cell_type": "code",
   "execution_count": 23,
   "metadata": {},
   "outputs": [],
   "source": [
    "assert (await b.ProcessMessage('.索引 守序邪恶', '821480843', 'TEST_USER', 'groupId_test'))[0].resultStr\n",
    "assert (await b.ProcessMessage('.索引 施法时间', '821480843', 'TEST_USER', 'groupId_test'))[0].resultStr\n",
    "assert (await b.ProcessMessage('.索引 长弓', '821480843', 'TEST_USER', 'groupId_test'))[0].resultStr\n",
    "assert (await b.ProcessMessage('2', '821480843', 'TEST_USER', 'groupId_test'))[0].resultStr[:2] == '长弓'"
   ]
  },
  {
   "cell_type": "code",
   "execution_count": 24,
   "metadata": {},
   "outputs": [],
   "source": [
    "assert (await b.ProcessMessage('.name', '821480843', 'TEST_USER', 'groupId_test'))[0].resultStr\n",
    "assert (await b.ProcessMessage('.name10#男性精灵', '821480843', 'TEST_USER', 'groupId_test'))[0].resultStr\n",
    "assert (await b.ProcessMessage('.name 10#女性人类', '821480843', 'TEST_USER', 'groupId_test'))[0].resultStr"
   ]
  },
  {
   "cell_type": "code",
   "execution_count": 25,
   "metadata": {},
   "outputs": [],
   "source": [
    "assert (await b.ProcessMessage('.welcome 欢迎~', '821480843', 'TEST_USER', 'groupId_test'))[0].resultStr\n",
    "assert b.groupInfoDict['groupId_test']['welcome'] == '欢迎~'"
   ]
  },
  {
   "cell_type": "code",
   "execution_count": 26,
   "metadata": {},
   "outputs": [],
   "source": [
    "assert (await b.ProcessMessage('.答题 科目一', '821480843', 'TEST_USER', 'groupId_test'))[0].resultStr\n",
    "assert (await b.ProcessMessage('f', '821480843', 'TEST_USER', 'groupId_test'))[0].resultStr\n",
    "assert (await b.ProcessMessage('T', '821480843', 'TEST_USER', 'groupId_test'))[0].resultStr\n",
    "assert (await b.ProcessMessage('q', '821480843', 'TEST_USER', 'groupId_test'))[0].resultStr"
   ]
  },
  {
   "cell_type": "code",
   "execution_count": 27,
   "metadata": {},
   "outputs": [],
   "source": [
    "template = (await b.ProcessMessage('.角色卡模板', '821480843', 'TEST_USER', 'groupId_test'))[0].resultStr\n",
    "assert (await b.ProcessMessage(f'.记录角色卡 {template}', '821480843', 'TEST_USER1', 'groupId_test'))[0].resultStr\n",
    "assert (await b.ProcessMessage(f'.记录角色卡 {template}', '00000000', 'TEST_USER2', 'groupId_test'))[0].resultStr\n",
    "assert(await b.ProcessMessage('.加入队伍 DND5E', '821480843', 'TEST_USER1', 'groupId_test'))[0].resultStr\n",
    "assert(await b.ProcessMessage('.加入队伍 DND5E', '00000000', 'TEST_USER2', 'groupId_test'))[0].resultStr\n",
    "assert((await b.ProcessMessage('.队伍点名', '821480843', 'TEST_USER', 'groupId_test'))[0].resultStr)\n",
    "assert(await b.ProcessMessage('.清除角色卡', '00000000', 'TEST_USER1', 'groupId_test'))[0].resultStr\n",
    "assert(await b.ProcessMessage('.清除角色卡', '821480843', 'TEST_USER2', 'groupId_test'))[0].resultStr"
   ]
  },
  {
   "cell_type": "code",
   "execution_count": 28,
   "metadata": {},
   "outputs": [],
   "source": [
    "assert (await b.ProcessMessage('.群管理', '821480843', 'TEST_USER2', 'groupId_test'))[0].resultStr\n",
    "assert (await b.ProcessMessage('.群管理 启用功能 查询', '821480843', 'TEST_USER2', 'groupId_test'))[0].resultStr\n",
    "assert (await b.ProcessMessage('.群管理 禁用功能 查询', '821480843', 'TEST_USER2', 'groupId_test'))[0].resultStr\n",
    "assert (await b.ProcessMessage('.查询', '821480843', 'TEST_USER2', 'groupId_test'))[0].resultStr\n",
    "assert (await b.ProcessMessage('.群管理 启用功能 查询', '821480843', 'TEST_USER2', 'groupId_test'))[0].resultStr\n",
    "assert (await b.ProcessMessage('.查询', '821480843', 'TEST_USER2', 'groupId_test'))[0].resultStr\n",
    "assert (await b.ProcessMessage('.群管理 信息', '821480843', 'TEST_USER2', 'groupId_test'))[0].resultStr"
   ]
  }
 ],
 "metadata": {
  "kernelspec": {
   "display_name": "Python 3",
   "language": "python",
   "name": "python3"
  },
  "language_info": {
   "codemirror_mode": {
    "name": "ipython",
    "version": 3
   },
   "file_extension": ".py",
   "mimetype": "text/x-python",
   "name": "python",
   "nbconvert_exporter": "python",
   "pygments_lexer": "ipython3",
   "version": "3.7.4"
  }
 },
 "nbformat": 4,
 "nbformat_minor": 2
}
